{
 "cells": [
  {
   "cell_type": "markdown",
   "metadata": {},
   "source": []
  },
  {
   "cell_type": "code",
   "execution_count": 2,
   "metadata": {},
   "outputs": [],
   "source": [
    "import cv2\n",
    "from tkinter import *\n",
    "from tkinter import messagebox\n",
    "from tkinter import filedialog\n",
    "\n",
    "import os  #library for deal with system\n",
    "\n",
    "window =Tk()\n",
    "\n",
    "window.geometry('310x450+500+100')\n",
    "window.title('Qr code Scanner ')\n",
    "\n",
    "def open():\n",
    "    file =filedialog.askopenfile(mode=\"r\",filetypes=[('files','*.jpg')])\n",
    "    if file:\n",
    "        filepath =os.path.abspath(file.name)\n",
    "        Ent1.insert(0,str(filepath))\n",
    "\n",
    "def scan():\n",
    "    d = Ent1.get()\n",
    "    res =cv2.QRCodeDetector()\n",
    "    val,points,s_qr =res.detectAndDecode(cv2.imread(d))\n",
    "    messagebox.showinfo(\"QR-Scan\",val)\n",
    "\n",
    "\n",
    "\n",
    "text =Label(window,text='QR_SCANNER',fg='white',bg='black')\n",
    "text.pack(fill=X)\n",
    "\n",
    "photo = PhotoImage(file='C:/Users/Qursan/Desktop/Fifth Years Mechatronics/project/Project_MSD/Employeer/QR_Code/QR.png')\n",
    "imo = Label(window,image=photo)\n",
    "imo.place(x=40,y=40,width=230,height=190)\n",
    "\n",
    "lb1=Label(window,text=\"QR-code Scanner\",font=(\"Tajawal\",14))\n",
    "lb1.place(x=100,y=250)\n",
    "\n",
    "Ent1 =Entry(window,font=(\"Tajawal\",11),width=31)\n",
    "Ent1.place(x=25,y=290)\n",
    "\n",
    "btn = Button(window,text=\"Select Image\",fg=\"white\",bg=\"green\",width=30,font=(\"Tajawal\",12),command=open)\n",
    "btn.place(x=15,y=340)\n",
    "\n",
    "btn1 = Button(window,text=\"Read QR-Code\",fg=\"black\",bg=\"red\",width=30,font=(\"Tajawal\",12),command=scan)\n",
    "btn1.place(x=15,y=380)\n",
    "window.mainloop()"
   ]
  },
  {
   "cell_type": "code",
   "execution_count": null,
   "metadata": {},
   "outputs": [],
   "source": []
  }
 ],
 "metadata": {
  "kernelspec": {
   "display_name": "rptodo-project",
   "language": "python",
   "name": "python3"
  },
  "language_info": {
   "codemirror_mode": {
    "name": "ipython",
    "version": 3
   },
   "file_extension": ".py",
   "mimetype": "text/x-python",
   "name": "python",
   "nbconvert_exporter": "python",
   "pygments_lexer": "ipython3",
   "version": "3.11.4"
  }
 },
 "nbformat": 4,
 "nbformat_minor": 2
}
